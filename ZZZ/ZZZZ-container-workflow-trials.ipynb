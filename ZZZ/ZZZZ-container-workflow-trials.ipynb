{
 "cells": [
  {
   "cell_type": "code",
   "execution_count": null,
   "metadata": {
    "vscode": {
     "languageId": "plaintext"
    }
   },
   "outputs": [],
   "source": [
    "docker run \\\n",
    "  -p 5001:5001 \\\n",
    "  --env-file .env.docker \\\n",
    "  --name service1_driver_management_container \\\n",
    "  service1_driver_management\n",
    "\n",
    "docker run \\\n",
    "  --rm \\\n",
    "  -p 5001:5001 \\\n",
    "  --env-file .env.docker \\\n",
    "  --name service1_driver_management_container \\\n",
    "  service1_driver_management\n",
    "\n",
    "docker run \\\n",
    "  --rm \\\n",
    "  --name mysql-container \\\n",
    "  -e MYSQL_ROOT_PASSWORD=1234 \\\n",
    "  -v \"F:/MY-SQL-CONTAINER-LOCAL-DATA:/var/lib/mysql\" \\\n",
    "  -p 3306:3306 \\\n",
    "  -d mysql:8.0\n",
    "\n",
    "\n"
   ]
  }
 ],
 "metadata": {
  "language_info": {
   "name": "python"
  }
 },
 "nbformat": 4,
 "nbformat_minor": 2
}
