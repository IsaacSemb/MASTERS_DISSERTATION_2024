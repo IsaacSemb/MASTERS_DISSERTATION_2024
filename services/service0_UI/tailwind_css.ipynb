{
 "cells": [
  {
   "cell_type": "code",
   "execution_count": null,
   "metadata": {
    "vscode": {
     "languageId": "plaintext"
    }
   },
   "outputs": [],
   "source": [
    "install it using npm\n",
    "\n",
    "npm install -D tailwindcss postcss autoprefixer\n",
    "\n",
    "npx tailwindcss init\n",
    "\n"
   ]
  },
  {
   "cell_type": "code",
   "execution_count": null,
   "metadata": {
    "vscode": {
     "languageId": "plaintext"
    }
   },
   "outputs": [],
   "source": [
    "module.exports = {\n",
    "  content: [\n",
    "    \"./src/**/*.{js,jsx,ts,tsx}\"\n",
    "  ],\n",
    "  theme: {\n",
    "    extend: {},\n",
    "  },\n",
    "  plugins: [],\n",
    "};\n"
   ]
  },
  {
   "cell_type": "code",
   "execution_count": null,
   "metadata": {
    "vscode": {
     "languageId": "plaintext"
    }
   },
   "outputs": [],
   "source": [
    "in css file\n",
    "\n",
    "@tailwind base;\n",
    "@tailwind components;\n",
    "@tailwind utilities;\n",
    "\n",
    "\n"
   ]
  },
  {
   "cell_type": "code",
   "execution_count": null,
   "metadata": {
    "vscode": {
     "languageId": "plaintext"
    }
   },
   "outputs": [],
   "source": []
  }
 ],
 "metadata": {
  "language_info": {
   "name": "python"
  }
 },
 "nbformat": 4,
 "nbformat_minor": 2
}
